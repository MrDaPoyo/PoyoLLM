{
 "cells": [
  {
   "cell_type": "markdown",
   "id": "18e888ac4b56fda9",
   "metadata": {},
   "source": [
    "# Processing the data for PoyoLLM\n",
    "First of all we process and refine our data, just like in MacroData Refinement from severance."
   ]
  },
  {
   "cell_type": "code",
   "execution_count": null,
   "id": "initial_id",
   "metadata": {
    "ExecuteTime": {
     "end_time": "2025-04-21T18:34:37.979030Z",
     "start_time": "2025-04-21T18:33:08.086498Z"
    },
    "collapsed": true
   },
   "outputs": [
    {
     "name": "stdout",
     "output_type": "stream",
     "text": [
      "['train']\n"
     ]
    },
    {
     "name": "stderr",
     "output_type": "stream",
     "text": [
      "Generating train split: 100%|██████████| 4605/4605 [00:00<00:00, 85937.00 examples/s]"
     ]
    },
    {
     "name": "stdout",
     "output_type": "stream",
     "text": [
      "There's a total of 1 rows in the dataset.\n"
     ]
    },
    {
     "name": "stderr",
     "output_type": "stream",
     "text": [
      "\n"
     ]
    }
   ],
   "source": [
    "from datasets import load_dataset, get_dataset_split_names\n",
    "\n",
    "print(get_dataset_split_names(\"Helsinki-NLP/opus_books\", \"ca-en\"))\n",
    "\n",
    "ds = load_dataset(\"Helsinki-NLP/opus_books\", \"ca-en\")"
   ]
  },
  {
   "cell_type": "code",
   "execution_count": null,
   "id": "580f09b6",
   "metadata": {},
   "outputs": [
    {
     "name": "stdout",
     "output_type": "stream",
     "text": [
      "DatasetDict({\n",
      "    train: Dataset({\n",
      "        features: ['id', 'translation'],\n",
      "        num_rows: 4605\n",
      "    })\n",
      "})\n",
      "There's a total of 4605 rows in the dataset.\n"
     ]
    }
   ],
   "source": [
    "print(f\"There's a total of {ds.num_rows[\"train\"]} rows in the dataset.\")"
   ]
  }
 ],
 "metadata": {
  "kernelspec": {
   "display_name": "Python 3",
   "language": "python",
   "name": "python3"
  },
  "language_info": {
   "codemirror_mode": {
    "name": "ipython",
    "version": 3
   },
   "file_extension": ".py",
   "mimetype": "text/x-python",
   "name": "python",
   "nbconvert_exporter": "python",
   "pygments_lexer": "ipython3",
   "version": "3.13.1"
  }
 },
 "nbformat": 4,
 "nbformat_minor": 5
}
